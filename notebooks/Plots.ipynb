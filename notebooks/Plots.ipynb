{
 "cells": [
  {
   "cell_type": "code",
   "execution_count": null,
   "metadata": {},
   "outputs": [],
   "source": [
    "import pandas as pd\n",
    "import numpy as np\n",
    "from pathlib import Path\n",
    "import json\n",
    "import os\n",
    "import collections\n",
    "import matplotlib.pyplot as plt\n",
    "from pathlib import Path"
   ]
  },
  {
   "cell_type": "markdown",
   "metadata": {},
   "source": [
    "# Plotting FIDs"
   ]
  },
  {
   "cell_type": "code",
   "execution_count": null,
   "metadata": {},
   "outputs": [],
   "source": [
    "## Just loading the fids\n",
    "# location = \"/usrhomes/g013/SemanticStyleGAN/fids/fids_v1.json\"\n",
    "# print(location)\n",
    "# f = open(location)\n",
    "# fids = json.load(f)\n",
    "# print(fids)"
   ]
  },
  {
   "cell_type": "code",
   "execution_count": null,
   "metadata": {},
   "outputs": [],
   "source": [
    "#Funcrtiomn to sort a dictionary either based on keys or values\n",
    "def save_sorted(location,sort_keys=True) -> dict:\n",
    "    f = open(location)\n",
    "    fids = json.load(f)\n",
    "   \n",
    "    if sort_keys:\n",
    "        sorted_fids = sorted(fids.items(), key=lambda kv: kv[0])\n",
    "    else:\n",
    "        sorted_fids = sorted(fids.items(), key=lambda kv: kv[1])\n",
    "    sorted_fids=collections.OrderedDict(sorted_fids)\n",
    "   \n",
    "    with open(location, 'w') as fp:\n",
    "        json.dump(sorted_fids, fp)\n",
    "    return sorted_fids"
   ]
  },
  {
   "cell_type": "code",
   "execution_count": null,
   "metadata": {},
   "outputs": [],
   "source": [
    "def plot_fids(location,save=False):\n",
    "    sorted_fids=save_sorted(location,sort_keys=True)\n",
    "    x_keys = np.fromiter(sorted_fids.keys(),dtype=float)/1000\n",
    "    y_values = np.fromiter(sorted_fids.values(),dtype=float)\n",
    "    plt.plot(x_keys,y_values)\n",
    "    plt.yticks(np.arange(min(y_values),max(y_values),20))\n",
    "    plt.xlabel(\"Iterations in Thousand\")\n",
    "    plt.ylabel(\"FID Values\")\n",
    "    plt.xticks(rotation='vertical')\n",
    "    if save:\n",
    "            location =Path(location)\n",
    "            plt.savefig(str(location.parent/location.stem)+\".png\", bbox_inches='tight')\n",
    "    else:\n",
    "            plt.show()\n",
    "    min_key = x_keys[np.where(y_values == np.amin(y_values))[0]][0]\n",
    "    print(f\" Minimum FID is {min(y_values)} at iteration {min_key}k\")\n",
    "\n"
   ]
  },
  {
   "cell_type": "code",
   "execution_count": null,
   "metadata": {},
   "outputs": [],
   "source": [
    "def plot_fids_combined(fid_files,legacy_names,save_dir=None):\n",
    "    assert isinstance(fid_files,list)\n",
    "    max_y=0\n",
    "    for i,fid_file in enumerate(fid_files):\n",
    "        sorted_fids=save_sorted(fid_file,sort_keys=True)\n",
    "        x_keys = np.fromiter(sorted_fids.keys(),dtype=float)/1000\n",
    "        y_values = np.fromiter(sorted_fids.values(),dtype=float)\n",
    "        max_y= max(max_y,max(y_values))\n",
    "        plt.plot(x_keys,y_values,label=legacy_names[i])\n",
    "    plt.yticks(np.arange(min(y_values),max_y,20))\n",
    "    plt.xlabel(\"Iterations in Thousand\")\n",
    "    plt.ylabel(\"FID Values\")\n",
    "    plt.xticks(rotation='vertical')\n",
    "    plt.legend(loc=\"upper right\")\n",
    "    if save_dir:\n",
    "            plt.savefig(save_dir, bbox_inches='tight')\n",
    "    else:\n",
    "            plt.show()\n",
    "    min_key = x_keys[np.where(y_values == np.amin(y_values))[0]][0]\n",
    "    print(f\" Minimum FID is {min(y_values)} at iteration {min_key}k\")\n",
    "\n"
   ]
  },
  {
   "cell_type": "code",
   "execution_count": null,
   "metadata": {},
   "outputs": [],
   "source": [
    "location = \"/usrhomes/g013/SemanticStyleGAN/fids/fids_v1.json\"\n",
    "plot_fids(location,save=False)"
   ]
  },
  {
   "cell_type": "code",
   "execution_count": null,
   "metadata": {},
   "outputs": [],
   "source": [
    "location = \"/usrhomes/g013/SemanticStyleGAN/fids/fids_v2.json\"\n",
    "plot_fids(location,save=False)"
   ]
  },
  {
   "cell_type": "code",
   "execution_count": null,
   "metadata": {},
   "outputs": [],
   "source": [
    "location = \"/usrhomes/g013/SemanticStyleGAN/fids/fids_v3.json\"\n",
    "plot_fids(location,save=True)"
   ]
  },
  {
   "cell_type": "code",
   "execution_count": null,
   "metadata": {},
   "outputs": [],
   "source": [
    "location = \"/usrhomes/g013/SemanticStyleGAN/fids/fids_v3_2.json\"\n",
    "plot_fids(location,save=True)"
   ]
  },
  {
   "cell_type": "code",
   "execution_count": null,
   "metadata": {},
   "outputs": [],
   "source": [
    "location = \"/usrhomes/g013/SemanticStyleGAN/fids/fids_v3_no_test.json\"\n",
    "plot_fids(location,save=True)"
   ]
  },
  {
   "cell_type": "code",
   "execution_count": null,
   "metadata": {},
   "outputs": [],
   "source": [
    "# First Implementation of 16 Local G\n",
    "location = \"../fids/fids_v3.3.json\"\n",
    "plot_fids(location,save=True)"
   ]
  },
  {
   "cell_type": "code",
   "execution_count": null,
   "metadata": {},
   "outputs": [],
   "source": [
    "#Spectral norm only to first conv layer\n",
    "location = \"../fids/fids_v3.4.json\"\n",
    "plot_fids(location,save=True)"
   ]
  },
  {
   "cell_type": "code",
   "execution_count": null,
   "metadata": {},
   "outputs": [],
   "source": [
    "#Adding spectral norm to Main conv Layers\n",
    "location = \"../fids/fids_v3.5.json\"\n",
    "plot_fids(location,save=True)"
   ]
  },
  {
   "cell_type": "code",
   "execution_count": null,
   "metadata": {},
   "outputs": [],
   "source": [
    "#Adding spectral norm to Main conv Layers\n",
    "location = \"../fids/fids_v3.5_2.json\"\n",
    "plot_fids(location,save=True)"
   ]
  },
  {
   "cell_type": "code",
   "execution_count": null,
   "metadata": {},
   "outputs": [],
   "source": [
    "#Bigger Batch size (12 on 3 diff GPUs)\n",
    "location = \"../fids/fids_v3.7.json\"\n",
    "plot_fids(location,save=True)"
   ]
  },
  {
   "cell_type": "code",
   "execution_count": null,
   "metadata": {},
   "outputs": [],
   "source": [
    "#Bigger Batch size (12 on 3 diff GPUs) # That was the intention but a mistake was found\n",
    "location = \"../fids/fids_v3.11.json\"\n",
    "plot_fids(location,save=True)"
   ]
  },
  {
   "cell_type": "code",
   "execution_count": null,
   "metadata": {},
   "outputs": [],
   "source": [
    "#Bigger Batch size (16 on 4 diff GPUs)\n",
    "location = \"../fids/fids_v3.13.json\"\n",
    "plot_fids(location,save=True)"
   ]
  },
  {
   "cell_type": "code",
   "execution_count": null,
   "metadata": {},
   "outputs": [],
   "source": [
    "#smaller latent space of 128\n",
    "location = \"../fids/fids_v4.1.json\"\n",
    "plot_fids(location,save=True)"
   ]
  },
  {
   "cell_type": "code",
   "execution_count": null,
   "metadata": {},
   "outputs": [],
   "source": [
    "#Split of latent space ## Batch size 8 2 GPUS = 16/2GP\n",
    "location = \"../fids/fids_v5.0.json\"\n",
    "plot_fids(location,save=True)"
   ]
  },
  {
   "cell_type": "code",
   "execution_count": null,
   "metadata": {},
   "outputs": [],
   "source": [
    "#Split of latent space bigger batch size// 3 GPUS Batch size 4 -> 12\n",
    "location = \"../fids/fids_v5.1.json\"\n",
    "plot_fids(location,save=True)"
   ]
  },
  {
   "cell_type": "code",
   "execution_count": null,
   "metadata": {},
   "outputs": [],
   "source": [
    "#Split of latent space smaller dimensions bigger batch size\n",
    "location = \"../fids/fids_v5.2.json\" # Batch size 4 \n",
    "plot_fids(location,save=True)"
   ]
  },
  {
   "cell_type": "code",
   "execution_count": null,
   "metadata": {},
   "outputs": [],
   "source": [
    "## Next step: Train dimension for latent vector for 1 LG = 32  512 + 32 = 544\n",
    "location = \"../fids/fids_v5.3.json\" \n",
    "plot_fids(location,save=True)"
   ]
  },
  {
   "cell_type": "code",
   "execution_count": null,
   "metadata": {},
   "outputs": [],
   "source": [
    "##16 per LG , 256+16 in total\n",
    "location = \"../fids/fids_v5.4.json\" \n",
    "plot_fids(location,save=True)"
   ]
  },
  {
   "cell_type": "code",
   "execution_count": null,
   "metadata": {},
   "outputs": [],
   "source": [
    "##IDD batch size 8\n",
    "location = \"../fids/fids_IDD_v1.json\" \n",
    "plot_fids(location,save=True)"
   ]
  },
  {
   "cell_type": "code",
   "execution_count": null,
   "metadata": {},
   "outputs": [],
   "source": [
    "##IDD batch size 16\n",
    "location = \"../fids/fids_IDD_v2.json\" \n",
    "plot_fids(location,save=True)"
   ]
  },
  {
   "cell_type": "code",
   "execution_count": null,
   "metadata": {},
   "outputs": [],
   "source": [
    "##IDD batch size 16 with spectral\n",
    "location = \"../fids/fids_IDD_v3.json\" \n",
    "plot_fids(location,save=True)"
   ]
  },
  {
   "cell_type": "code",
   "execution_count": null,
   "metadata": {},
   "outputs": [],
   "source": [
    "##IDD batch size 16 with spectral/ NewLabels\n",
    "location = \"../fids/fids_IDD_v4.json\" \n",
    "plot_fids(location,save=True)"
   ]
  },
  {
   "cell_type": "code",
   "execution_count": null,
   "metadata": {},
   "outputs": [],
   "source": [
    "##IDD bs 12/ Completely New Mapping // 13 LGs.\n",
    "location = \"../fids/fids_IDD_v5.json\" \n",
    "plot_fids(location,save=True)"
   ]
  },
  {
   "cell_type": "code",
   "execution_count": null,
   "metadata": {},
   "outputs": [],
   "source": [
    "##IDD bs 12/ Completely New Mapping // 22 LGs.\n",
    "location = \"../fids/fids_IDD_v6.json\" \n",
    "plot_fids(location,save=True)"
   ]
  },
  {
   "cell_type": "code",
   "execution_count": null,
   "metadata": {},
   "outputs": [],
   "source": [
    "##IDD bs 12/ 13 LG no Spectral.\n",
    "location = \"../fids/fids_IDD_v7.json\" \n",
    "plot_fids(location,save=True)"
   ]
  },
  {
   "cell_type": "code",
   "execution_count": null,
   "metadata": {},
   "outputs": [],
   "source": [
    "## IDD increasing bs + no spectral + 13 LG\n"
   ]
  },
  {
   "cell_type": "code",
   "execution_count": null,
   "metadata": {},
   "outputs": [],
   "source": [
    "## Ideas to train next : \n",
    "\n",
    "#Why not train with even bigger bs for IDD and mapillary, Either by asking george to train on more than 5\n",
    "# OR try to train IDD with batchsize 8 or 6 per each GPU. Give it a shot."
   ]
  },
  {
   "cell_type": "code",
   "execution_count": null,
   "metadata": {},
   "outputs": [],
   "source": [
    "location = \"../fids/fids_mapillary_v1.json\" \n",
    "plot_fids(location,save=True)"
   ]
  },
  {
   "cell_type": "code",
   "execution_count": null,
   "metadata": {},
   "outputs": [],
   "source": [
    "location = \"../fids/fids_v10.0.json\" \n",
    "plot_fids(location,save=True)"
   ]
  },
  {
   "cell_type": "code",
   "execution_count": null,
   "metadata": {},
   "outputs": [],
   "source": [
    "location = \"../fids/fids_v3.7.json\" \n",
    "plot_fids(location,save=True)"
   ]
  },
  {
   "cell_type": "code",
   "execution_count": null,
   "metadata": {},
   "outputs": [],
   "source": [
    "location = \"../fids/fids_27C.json\" \n",
    "plot_fids(location,save=True)"
   ]
  },
  {
   "attachments": {},
   "cell_type": "markdown",
   "metadata": {},
   "source": [
    "### Combined plotting of fids"
   ]
  },
  {
   "cell_type": "code",
   "execution_count": null,
   "metadata": {},
   "outputs": [],
   "source": [
    "\n",
    "loc1=\"../fids/fids_v3.3.json\" \n",
    "\n",
    "loc2=\"../fids/fids_v3.6.json\" \n",
    "loc1_2=\"../fids/fids_v10.0.json\" \n",
    "loc3=\"../fids/fids_v3.12.json\" \n",
    "loc4=\"../fids/fids_v7.0.json\" \n",
    "loc5=\"../fids/fids_v3.7.json\" \n",
    "loc7=\"../fids/fids_v3.13_cut.json\" \n",
    "legacy_names = [f\"setting_{i}_x\" for i in range(7)]\n",
    "##Waiting for a model that is training, contains spec + bs=4\n",
    "legacy_names = [\"16 Classes B4 noSN\",\"16 Classes B4 TTUR\",\"16 Classes B4 SN\",\"16 Classes B16 noSN\",\"24 Classes B12 SN\",\"16 Classes B12 SN\",\"16 Classes B16 SN\"]\n",
    "plot_fids_combined([loc1,loc2,loc1_2,loc3,loc4,loc5,loc7],legacy_names,save_dir=\"./combined_fids.svg\")"
   ]
  },
  {
   "cell_type": "code",
   "execution_count": null,
   "metadata": {},
   "outputs": [],
   "source": [
    "loc2=\"../fids/fids_v3.6.json\" \n",
    "loc1=\"../fids/fids_v3.3.json\" \n",
    "\n",
    "\n",
    "loc1_2=\"../fids/fids_v10.0.json\" \n",
    "loc3=\"../fids/fids_v3.12.json\" \n",
    "loc4=\"../fids/fids_v7.0.json\" \n",
    "loc5=\"../fids/fids_v3.7.json\" \n",
    "loc7=\"../fids/fids_v3.13_cut.json\" \n",
    "legacy_names = [f\"setting_{i}_x\" for i in range(7)]\n",
    "##Waiting for a model that is training, contains spec + bs=4\n",
    "legacy_names = [\"16 Classes B4 TTUR\",\"16 Classes B4 noSN\",\"16 Classes B4 SN\",\"16 Classes B16 noSN\",\"24 Classes B12 SN\",\"16 Classes B12 SN\",\"16 Classes B16 SN\"]\n",
    "plot_fids_combined([loc2,loc1,loc1_2,loc3,loc4,loc5,loc7],legacy_names,save_dir=\"./combined_fids.svg\")"
   ]
  },
  {
   "cell_type": "code",
   "execution_count": null,
   "metadata": {},
   "outputs": [],
   "source": []
  }
 ],
 "metadata": {
  "kernelspec": {
   "display_name": "Python 3.9.12 ('myenv')",
   "language": "python",
   "name": "python3"
  },
  "language_info": {
   "codemirror_mode": {
    "name": "ipython",
    "version": 3
   },
   "file_extension": ".py",
   "mimetype": "text/x-python",
   "name": "python",
   "nbconvert_exporter": "python",
   "pygments_lexer": "ipython3",
   "version": "3.9.12"
  },
  "orig_nbformat": 4,
  "vscode": {
   "interpreter": {
    "hash": "c8daaeadef7a295f68d0e95189507333c5c96e909e217a26b6b4a4818e648299"
   }
  }
 },
 "nbformat": 4,
 "nbformat_minor": 2
}
