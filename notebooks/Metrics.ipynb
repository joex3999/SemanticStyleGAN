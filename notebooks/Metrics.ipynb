{
 "cells": [
  {
   "cell_type": "code",
   "execution_count": null,
   "metadata": {},
   "outputs": [],
   "source": [
    "import pandas as pd\n",
    "import numpy as np\n",
    "import torch\n",
    "from pathlib import Path\n",
    "import json\n",
    "import os\n",
    "import collections\n",
    "import re \n",
    "from imageio import imread, imwrite\n",
    "from multiprocessing import Pool\n",
    "import matplotlib.pyplot as plt\n",
    "import cv2\n",
    "from scipy import linalg\n",
    "#import matplotlib.pyplot as plt"
   ]
  },
  {
   "cell_type": "markdown",
   "metadata": {},
   "source": [
    "## FSD METRICS"
   ]
  },
  {
   "cell_type": "code",
   "execution_count": null,
   "metadata": {},
   "outputs": [],
   "source": [
    "def class_dist(mean_values_r,mean_values_g=None,save_loc=None,title=None):\n",
    "    fig = plt.figure()\n",
    "    x = np.arange(len(mean_values_r))\n",
    "    x_labels=[\"Void\",\"Road\",\"S.Walk\",\"Building\",\"Wall\",\"Fence\",\"Pole\",\"Tr.Light\",\"Tr.Sign\",\"Veget.\",\"Sky\",\n",
    "    \"Person\",\"Rider\",\"Car\",\"O.Vehicles\",\"Bikes\"]\n",
    "    ax=fig.add_axes([0,0,1,1])\n",
    "    ax.bar(x,mean_values_r,color='b',width=0.25)\n",
    "    if not mean_values_g is None:    \n",
    "        ax.bar(x+0.25,mean_values_g,color='g',width=0.25)\n",
    "    ax.legend([\"Real (First) \",\"Generated (Second)\"])\n",
    "    ax.set_xticks(x)\n",
    "    ax.set_xticklabels(x_labels,rotation=45,ha=\"right\")\n",
    "    ax.set_title(title)\n",
    "\n",
    "    if not save_loc is None:\n",
    "        fig.savefig(save_loc,bbox_inches=\"tight\")\n",
    "  \n"
   ]
  },
  {
   "cell_type": "code",
   "execution_count": null,
   "metadata": {},
   "outputs": [],
   "source": [
    "real_cond = np.load(\"../real_dataset_cond_old.npy\")\n",
    "generated_cond=np.load(\"../generated_cond.npy\")\n",
    "\n",
    "m1 = np.mean(real_cond, axis=0)\n",
    "s1 = np.cov(real_cond, rowvar=False)\n",
    "\n",
    "m2 = np.mean(generated_cond, axis=0)\n",
    "s2 = np.cov(generated_cond, rowvar=False)"
   ]
  },
  {
   "cell_type": "code",
   "execution_count": null,
   "metadata": {},
   "outputs": [],
   "source": [
    "class_dist(m1)"
   ]
  },
  {
   "cell_type": "code",
   "execution_count": null,
   "metadata": {},
   "outputs": [],
   "source": [
    "#v3.13\n",
    "save_loc=\"./data/class_distribution_graph_5kcity.png\"\n",
    "class_dist(m1,m2,save_loc)"
   ]
  },
  {
   "cell_type": "code",
   "execution_count": null,
   "metadata": {},
   "outputs": [],
   "source": [
    "#v3.11\n",
    "save_loc=\"./data/class_distribution_graph_5kcity.png\"\n",
    "class_dist(m1,m2,save_loc)\n"
   ]
  },
  {
   "cell_type": "code",
   "execution_count": null,
   "metadata": {},
   "outputs": [],
   "source": [
    "real_cond = np.load(\"../real_dataset_cond_old.npy\")\n",
    "generated_cond=np.load(\"../real_dataset_cond_5k.npy\")\n",
    "\n",
    "m1 = np.mean(real_cond, axis=0)\n",
    "s1 = np.cov(real_cond, rowvar=False)\n",
    "\n",
    "m2 = np.mean(generated_cond, axis=0)\n",
    "s2 = np.cov(generated_cond, rowvar=False)\n",
    "\n",
    "class_dist(m1,m2)\n"
   ]
  },
  {
   "cell_type": "code",
   "execution_count": null,
   "metadata": {},
   "outputs": [],
   "source": [
    "## KL Divergence"
   ]
  },
  {
   "cell_type": "code",
   "execution_count": null,
   "metadata": {},
   "outputs": [],
   "source": [
    "real_cond.shape"
   ]
  },
  {
   "cell_type": "code",
   "execution_count": null,
   "metadata": {},
   "outputs": [],
   "source": [
    "real_cond = np.load(\"../real_dataset_cond_old.npy\")\n",
    "generated_cond=np.load(\"../generated_cond.npy\")\n",
    "\n",
    "m1 = np.mean(real_cond, axis=0)\n",
    "\n",
    "m2 = np.mean(generated_cond, axis=0)\n",
    "m1_t = torch.tensor(m1).unsqueeze(0)\n",
    "m2_t=torch.tensor(m2).unsqueeze(0)\n",
    "kl_divergence(m1_t, m2_t)"
   ]
  },
  {
   "cell_type": "markdown",
   "metadata": {},
   "source": [
    "### Final Metrics table"
   ]
  },
  {
   "cell_type": "code",
   "execution_count": null,
   "metadata": {},
   "outputs": [],
   "source": [
    "metrics = [\"Model\",\"FID_50k\",\"FID*\",\"FSD_50k\",\"Test MIoU-33\",\"Test MIoU-16\",\"KID\"] #TODO: Include Train MIoU\n",
    "metrics_df =  pd.DataFrame(columns=metrics)\n",
    "## Model_{trained_on}_vs_{generated_samples}\n",
    "sem_pal_3k = {\"Model\":\"SP_3k\",\"FID*\":61.04,\"FID_50k\":38.4,\"FSD_50k\":24.2,\"KID\":\"__\",\"Test MIoU-33\":34,\"Test MIoU-16\":22}\n",
    "\n",
    "sem_pal_25k = {\"Model\":\"SP_25k\",\"FID*\":52.5,\"FID_50k\":25.8,\"FSD_50k\":19.5,\"KID\":\"__\",\"Test MIoU-33\":28,\"Test MIoU-16\":21}\n",
    "\n",
    "##SSG chosen is v3.13 ckpt 140k\n",
    "ssg_25k = {\"Model\":\"SSG_25k\",\"FID*\":\"__\",\"FID_50k\":9.8,\"FSD_50k\":155,\"KID\":22,\"Test MIoU-33\":\"___\",\"Test MIoU-16\":34}\n",
    "print(f\"FID* is how SP calculated their FID(len(training_images) generated vs validation ), while FID 50k is 50k generated sample vs all images model have seen\")\n",
    "metrics_df.append([ssg_25k,sem_pal_3k,sem_pal_25k])"
   ]
  },
  {
   "cell_type": "code",
   "execution_count": null,
   "metadata": {},
   "outputs": [],
   "source": []
  }
 ],
 "metadata": {
  "kernelspec": {
   "display_name": "Python 3.9.12 ('myenv': conda)",
   "language": "python",
   "name": "python3"
  },
  "language_info": {
   "codemirror_mode": {
    "name": "ipython",
    "version": 3
   },
   "file_extension": ".py",
   "mimetype": "text/x-python",
   "name": "python",
   "nbconvert_exporter": "python",
   "pygments_lexer": "ipython3",
   "version": "3.9.12 (main, Jun  1 2022, 11:38:51) \n[GCC 7.5.0]"
  },
  "orig_nbformat": 4,
  "vscode": {
   "interpreter": {
    "hash": "c8daaeadef7a295f68d0e95189507333c5c96e909e217a26b6b4a4818e648299"
   }
  }
 },
 "nbformat": 4,
 "nbformat_minor": 2
}
