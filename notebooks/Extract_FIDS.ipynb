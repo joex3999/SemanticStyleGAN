{
 "cells": [
  {
   "cell_type": "code",
   "execution_count": null,
   "metadata": {},
   "outputs": [],
   "source": [
    "import pandas as pd\n",
    "import numpy as np\n",
    "from pathlib import Path\n",
    "import json\n",
    "import os\n",
    "import collections\n",
    "import re \n",
    "from imageio import imread, imwrite\n",
    "from multiprocessing import Pool\n",
    "import matplotlib.pyplot as plt\n",
    "import cv2\n",
    "import gdown\n",
    "import math\n",
    "#import matplotlib.pyplot as plt"
   ]
  },
  {
   "cell_type": "code",
   "execution_count": null,
   "metadata": {},
   "outputs": [],
   "source": [
    "## Open File and Extract FIDS\n",
    "def extract_fids(load_list,save_location):\n",
    "    fids ={}\n",
    "    for load_location in load_list:\n",
    "        file = open(load_location, \"r\").read()\n",
    "        file.split(\"FID:\")\n",
    "        occurences = [_.start() for _ in re.finditer(\"FID:\", file)] \n",
    "        for occ in occurences:\n",
    "            key=file[occ-8:occ-2]\n",
    "            value = file[occ+5:occ+10]\n",
    "            fids[key]=value\n",
    "    print(fids)\n",
    "    with open(save_location, 'w') as fp:\n",
    "            json.dump(fids, fp)"
   ]
  },
  {
   "cell_type": "code",
   "execution_count": null,
   "metadata": {},
   "outputs": [],
   "source": [
    "\n",
    "load_location = \"/usrhomes/g013/SemanticStyleGAN/log_files/old_files/SSG76859.linse10_output.out\"\n",
    "save_location = \"../fids/fids_v3.3.json\"\n",
    "extract_fids([load_location],save_location)"
   ]
  },
  {
   "cell_type": "code",
   "execution_count": null,
   "metadata": {},
   "outputs": [],
   "source": [
    "load_location = \"/usrhomes/g013/SemanticStyleGAN/log_files/SSG77834.linse10_output.out\"\n",
    "save_location = \"../fids/fids_v3.5.json\"\n",
    "extract_fids([load_location],save_location)"
   ]
  },
  {
   "cell_type": "code",
   "execution_count": null,
   "metadata": {},
   "outputs": [],
   "source": [
    "load_location = \"/usrhomes/g013/SemanticStyleGAN/log_files/SSG76189.linse2_output.out\"\n",
    "save_location = \"/usrhomes/g013/SemanticStyleGAN/fids/fids_v3_2.json\"\n",
    "\n",
    "extract_fids([load_location],save_location)"
   ]
  },
  {
   "cell_type": "code",
   "execution_count": null,
   "metadata": {},
   "outputs": [],
   "source": [
    "load_location = \"/usrhomes/g013/SemanticStyleGAN/log_files/old_files/SSG78195.linse10_output.out\"\n",
    "save_location = \"/usrhomes/g013/SemanticStyleGAN/fids/fids_v3.5_2.json\"\n",
    "\n",
    "extract_fids([load_location],save_location)"
   ]
  },
  {
   "cell_type": "code",
   "execution_count": null,
   "metadata": {},
   "outputs": [],
   "source": [
    "load_location = \"/usrhomes/g013/SemanticStyleGAN/log_files/SSG_v3.7/SSG78580.linse10_output.out\"\n",
    "save_location = \"/usrhomes/g013/SemanticStyleGAN/fids/fids_v3.7.json\"\n",
    "\n",
    "extract_fids([load_location],save_location)"
   ]
  },
  {
   "cell_type": "code",
   "execution_count": null,
   "metadata": {},
   "outputs": [],
   "source": [
    "load_location = \"/usrhomes/g013/SemanticStyleGAN/log_files/SSG_v3.10/SSG78935.linse3_output.out\"\n",
    "save_location = \"/usrhomes/g013/SemanticStyleGAN/fids/fids_v3.10.json\"\n",
    "\n",
    "extract_fids([load_location],save_location)"
   ]
  },
  {
   "cell_type": "code",
   "execution_count": null,
   "metadata": {},
   "outputs": [],
   "source": [
    "load_location = \"/usrhomes/g013/SemanticStyleGAN/log_files/SSG_v3.11/SSG79038.linse3_output.out\"\n",
    "save_location = \"/usrhomes/g013/SemanticStyleGAN/fids/fids_v3.11.json\"\n",
    "\n",
    "extract_fids([load_location],save_location)"
   ]
  },
  {
   "cell_type": "code",
   "execution_count": null,
   "metadata": {},
   "outputs": [],
   "source": [
    "load_location = \"/usrhomes/g013/SemanticStyleGAN/log_files/SSG_v3.12/937391_output.out\"\n",
    "save_location = \"/usrhomes/g013/SemanticStyleGAN/fids/fids_v3.12.json\"\n",
    "\n",
    "extract_fids([load_location],save_location)"
   ]
  },
  {
   "cell_type": "code",
   "execution_count": null,
   "metadata": {},
   "outputs": [],
   "source": [
    "load_location = \"/usrhomes/g013/SemanticStyleGAN/log_files/SSG_v3.13/SSG79894.linse10_output.out\"\n",
    "save_location = \"/usrhomes/g013/SemanticStyleGAN/fids/fids_v3.13.json\"\n",
    "\n",
    "extract_fids([load_location],save_location)"
   ]
  },
  {
   "cell_type": "code",
   "execution_count": null,
   "metadata": {},
   "outputs": [],
   "source": [
    "load_location = \"/usrhomes/g013/SemanticStyleGAN/log_files/SSG_v4.1/SSG82634.linse2_output.out\"\n",
    "save_location = \"/usrhomes/g013/SemanticStyleGAN/fids/fids_v4.1.json\"\n",
    "\n",
    "extract_fids([load_location],save_location)"
   ]
  },
  {
   "cell_type": "code",
   "execution_count": null,
   "metadata": {},
   "outputs": [],
   "source": [
    "load_location = \"/usrhomes/g013/SemanticStyleGAN/log_files/SSG_v5.0/SSG83301.linse2_output.out\"\n",
    "save_location = \"/usrhomes/g013/SemanticStyleGAN/fids/fids_v5.0.json\"\n",
    "\n",
    "extract_fids([load_location],save_location)"
   ]
  },
  {
   "cell_type": "code",
   "execution_count": null,
   "metadata": {},
   "outputs": [],
   "source": [
    "load_location = \"/usrhomes/g013/SemanticStyleGAN/log_files/SSG_v5.3/SSG84312.linse10_output.out\"\n",
    "save_location = \"/usrhomes/g013/SemanticStyleGAN/fids/fids_v5.3.json\"\n",
    "\n",
    "extract_fids([load_location],save_location)"
   ]
  },
  {
   "cell_type": "code",
   "execution_count": null,
   "metadata": {},
   "outputs": [],
   "source": [
    "load_location = \"/usrhomes/g013/SemanticStyleGAN/log_files/SSG_v5.4/SSG84562.linse10_output.out\"\n",
    "save_location = \"/usrhomes/g013/SemanticStyleGAN/fids/fids_v5.4.json\"\n",
    "\n",
    "extract_fids([load_location],save_location)"
   ]
  },
  {
   "cell_type": "code",
   "execution_count": null,
   "metadata": {},
   "outputs": [],
   "source": [
    "\n",
    "load_location = \"/usrhomes/g013/SemanticStyleGAN/log_files/IDD/SSG85499.linse2_output.out\"\n",
    "save_location = \"/usrhomes/g013/SemanticStyleGAN/fids/fids_IDD_v1.json\"\n",
    "\n",
    "extract_fids([load_location],save_location)"
   ]
  },
  {
   "cell_type": "code",
   "execution_count": null,
   "metadata": {},
   "outputs": [],
   "source": [
    "\n",
    "load_location = \"/usrhomes/g013/SemanticStyleGAN/log_files/IDD_v2/SSG85691.linse18_output.out\"\n",
    "save_location = \"/usrhomes/g013/SemanticStyleGAN/fids/fids_IDD_v2.json\"\n",
    "\n",
    "extract_fids([load_location],save_location)"
   ]
  },
  {
   "cell_type": "code",
   "execution_count": null,
   "metadata": {},
   "outputs": [],
   "source": [
    "\n",
    "load_location = \"/usrhomes/g013/SemanticStyleGAN/log_files/IDD_v3/SSG86018.linse3_output.out\"\n",
    "save_location = \"/usrhomes/g013/SemanticStyleGAN/fids/fids_IDD_v3.json\"\n",
    "\n",
    "extract_fids([load_location],save_location)"
   ]
  },
  {
   "cell_type": "code",
   "execution_count": null,
   "metadata": {},
   "outputs": [],
   "source": [
    "load_location = \"/usrhomes/g013/SemanticStyleGAN/log_files/IDD_v4/SSG86203.linse2_output.out\"\n",
    "save_location = \"/usrhomes/g013/SemanticStyleGAN/fids/fids_IDD_v4.json\"\n",
    "\n",
    "extract_fids([load_location],save_location)"
   ]
  },
  {
   "cell_type": "code",
   "execution_count": null,
   "metadata": {},
   "outputs": [],
   "source": [
    "load_location = \"/usrhomes/g013/SemanticStyleGAN/log_files/IDD_v5/SSG86586.linse2_output.out\"\n",
    "save_location = \"/usrhomes/g013/SemanticStyleGAN/fids/fids_IDD_v5.json\"\n",
    "#SSG86439.linse10_output.out\n",
    "#SSG86586.linse2_output.out\n",
    "extract_fids([load_location],save_location)"
   ]
  },
  {
   "cell_type": "code",
   "execution_count": null,
   "metadata": {},
   "outputs": [],
   "source": [
    "load_location = \"/usrhomes/g013/SemanticStyleGAN/log_files/IDD_v6/SSG86791.linse18_output.out\"\n",
    "save_location = \"/usrhomes/g013/SemanticStyleGAN/fids/fids_IDD_v6.json\"\n",
    "#SSG86439.linse10_output.out\n",
    "#SSG86586.linse2_output.out\n",
    "extract_fids([load_location],save_location)"
   ]
  },
  {
   "cell_type": "code",
   "execution_count": null,
   "metadata": {},
   "outputs": [],
   "source": [
    "load_location = \"/usrhomes/g013/SemanticStyleGAN/log_files/IDD_v7/SSG86885.linse18_output.out\"\n",
    "save_location = \"/usrhomes/g013/SemanticStyleGAN/fids/fids_IDD_v7.json\"\n",
    "#SSG86439.linse10_output.out\n",
    "#SSG86586.linse2_output.out\n",
    "extract_fids([load_location],save_location)"
   ]
  },
  {
   "cell_type": "code",
   "execution_count": null,
   "metadata": {},
   "outputs": [],
   "source": [
    "load_location_1 = \"/usrhomes/g013/SemanticStyleGAN/log_files/mapillary_v1/SSG87684.linse10_output.out\"\n",
    "load_location_2 = \"/usrhomes/g013/SemanticStyleGAN/log_files/mapillary_v1/SSG87810.linse10_output.out\"\n",
    "save_location = \"/usrhomes/g013/SemanticStyleGAN/fids/fids_mapillary_v1.json\"\n",
    "extract_fids([load_location_1,load_location_2],save_location)"
   ]
  },
  {
   "cell_type": "code",
   "execution_count": null,
   "metadata": {},
   "outputs": [],
   "source": [
    "load_location_1 = \"/usrhomes/g013/SemanticStyleGAN/log_files/mapillary_v1/SSG87684.linse10_output.out\"\n",
    "load_location_2 = \"/usrhomes/g013/SemanticStyleGAN/log_files/mapillary_v1/SSG87810.linse10_output.out\"\n",
    "save_location = \"/usrhomes/g013/SemanticStyleGAN/fids/fids_mapillary_v1.json\"\n",
    "extract_fids([load_location_1,load_location_2],save_location)"
   ]
  },
  {
   "cell_type": "code",
   "execution_count": null,
   "metadata": {},
   "outputs": [],
   "source": [
    "load_location_f=\"/usrhomes/g013/SemanticStyleGAN/log_files/classes_ablation/SSG89265.linse10_output_24C_2.out\"\n",
    "load_location_0 = \"/usrhomes/g013/SemanticStyleGAN/log_files/classes_ablation/SSG89324.linse3_output_24C_2.out\"\n",
    "load_location_1 = \"/usrhomes/g013/SemanticStyleGAN/log_files/classes_ablation/SSG89493.linse3_output_24C_2.out\"\n",
    "load_location_2 = \"/usrhomes/g013/SemanticStyleGAN/log_files/classes_ablation/SSG89650.linse10_output_24C_2.out\"\n",
    "save_location = \"/usrhomes/g013/SemanticStyleGAN/fids/fids_24C_cityscapes.json\"\n",
    "save_location= \"/usrhomes/g013/SemanticStyleGAN/fids/fids_v7.0.json\"\n",
    "extract_fids([load_location_f,load_location_0,load_location_1,load_location_2],save_location)"
   ]
  },
  {
   "cell_type": "code",
   "execution_count": null,
   "metadata": {},
   "outputs": [],
   "source": [
    "load_location_1 = \"/usrhomes/g013/SemanticStyleGAN/log_files/mapillary_v1/SSG87684.linse10_output.out\"\n",
    "save_location = \"/usrhomes/g013/SemanticStyleGAN/fids/fids_v7.0.json\"\n",
    "extract_fids([load_location_1],save_location)"
   ]
  },
  {
   "cell_type": "code",
   "execution_count": null,
   "metadata": {},
   "outputs": [],
   "source": [
    "\n",
    "load_location_1 = \"/usrhomes/g013/SemanticStyleGAN/log_files/classes_ablation/SSG90524.linse19_output_27C.out\"\n",
    "save_location = \"/usrhomes/g013/SemanticStyleGAN/fids/fids_27C.json\"\n",
    "extract_fids([load_location_1],save_location)"
   ]
  },
  {
   "cell_type": "markdown",
   "metadata": {},
   "source": [
    "## Extract Losses"
   ]
  },
  {
   "cell_type": "code",
   "execution_count": null,
   "metadata": {},
   "outputs": [],
   "source": [
    "def plot_loss_diff(iterations,g_losses,d_losses,save_location=None):\n",
    "    d_losses= np.array(d_losses)\n",
    "    g_losses=np.array(g_losses)\n",
    "    diff= np.abs(g_losses-d_losses)\n",
    "    x_keys = iterations\n",
    "    rang= 20\n",
    "    max_val = round(max(diff),2)\n",
    "    min_val = round(min(diff),2)\n",
    "    step= round((max_val-min_val)/10,2)\n",
    "    plt.plot(x_keys,diff,c='y',label=\"loss difference\")\n",
    "    plt.yticks(np.arange(min_val,max_val,step))\n",
    "    plt.xlabel(\"Iterations in Thousand\")\n",
    "    plt.ylabel(\"Loss Values\")\n",
    "    plt.xticks(rotation='vertical')\n",
    "    plt.legend(loc=\"upper right\")\n",
    "    if save_location:\n",
    "            location =Path(save_location)\n",
    "            plt.savefig(str(location.parent/location.stem)+\".png\", bbox_inches='tight')\n",
    "    else:\n",
    "            plt.show()\n"
   ]
  },
  {
   "cell_type": "code",
   "execution_count": null,
   "metadata": {},
   "outputs": [],
   "source": [
    "def plot_losses(iterations,g_losses,d_losses,save_location=None):\n",
    "    x_keys = iterations\n",
    "    rang= 20\n",
    "    max_val = max(max(g_losses),max(d_losses))\n",
    "    min_val = min(min(g_losses),min(d_losses))\n",
    "    step= (max_val-min_val)/20\n",
    "\n",
    "    plt.plot(x_keys,g_losses,c='b',label=\"Generator loss\")\n",
    "    plt.plot(x_keys,d_losses,c='g',label=\"Discriminator loss\")\n",
    "    plt.yticks(np.arange(min_val,max_val,step))\n",
    "    plt.xlabel(\"Iterations in Thousand\")\n",
    "    plt.ylabel(\"Loss Values\")\n",
    "    plt.xticks(rotation='vertical')\n",
    "    plt.legend(loc=\"upper right\")\n",
    "    if save_location:\n",
    "            location =Path(save_location)\n",
    "            plt.savefig(str(location.parent/location.stem)+\".png\", bbox_inches='tight')\n",
    "    else:\n",
    "            plt.show()\n"
   ]
  },
  {
   "cell_type": "code",
   "execution_count": null,
   "metadata": {},
   "outputs": [],
   "source": [
    "\n",
    "def extract_losses(load_location):\n",
    "    file = open(load_location, \"r\").read()\n",
    "    file.split(\"\\n\")\n",
    "    iterations=[]\n",
    "    d_losses=[]\n",
    "    g_losses=[]\n",
    "    upper_bound=20\n",
    "    ## Extract Data from CSV\n",
    "    for line in file.split(\"\\n\"):\n",
    "        if not (\"d:\" in line and \"g:\" in line):\n",
    "            continue\n",
    "        split_2 = line.split(\" \")\n",
    "        iteration = int(split_2[0][1:-1])\n",
    "        discriminator_loss = float(split_2[2][:-1])\n",
    "        generator_loss = float(split_2[4][:-1])\n",
    "        if generator_loss > upper_bound or discriminator_loss>upper_bound:\n",
    "            continue\n",
    "        iterations.append(iteration)\n",
    "        d_losses.append(discriminator_loss)\n",
    "        g_losses.append(generator_loss)\n",
    "    return(iterations,d_losses,g_losses)\n",
    "def get_losses(load_location,save_location=None,difference=False):\n",
    "    iterations,d_losses,g_losses=extract_losses(load_location)\n",
    "    if difference:\n",
    "        plot_loss_diff(iterations,g_losses,d_losses,save_location)\n",
    "    else:\n",
    "        plot_losses(iterations,g_losses,d_losses,save_location)\n",
    "\n",
    "\n",
    "#occurences = [_.start() for _ in re.finditer(\"FID:\", file)] "
   ]
  },
  {
   "cell_type": "code",
   "execution_count": null,
   "metadata": {},
   "outputs": [],
   "source": [
    "load_location = \"/usrhomes/g013/SemanticStyleGAN/log_files/SSG77834.linse10_output.out\"\n",
    "save_location = \"/usrhomes/g013/SemanticStyleGAN/fids/loss_v3.5.png\"\n",
    "get_losses(load_location,save_location,difference=False)\n"
   ]
  },
  {
   "cell_type": "code",
   "execution_count": null,
   "metadata": {},
   "outputs": [],
   "source": [
    "##V3.5_2\n",
    "# G and D loss are very close\n",
    "load_location = \"/usrhomes/g013/SemanticStyleGAN/log_files/SSG78195.linse10_output.out\"\n",
    "get_losses(load_location,difference=False)"
   ]
  },
  {
   "cell_type": "code",
   "execution_count": null,
   "metadata": {},
   "outputs": [],
   "source": [
    "load_location = \"/usrhomes/g013/SemanticStyleGAN/log_files/SSG_v3.7/SSG78580.linse10_output.out\"\n",
    "save_location=\"/usrhomes/g013/SemanticStyleGAN/fids/loss_v3.7.png\"\n",
    "get_losses(load_location,save_location,difference=True)"
   ]
  },
  {
   "cell_type": "code",
   "execution_count": null,
   "metadata": {},
   "outputs": [],
   "source": [
    "load_location = \"/usrhomes/g013/SemanticStyleGAN/log_files/SSG_v3.10/SSG78935.linse3_output.out\"\n",
    "get_losses(load_location,difference=False)"
   ]
  },
  {
   "cell_type": "code",
   "execution_count": null,
   "metadata": {},
   "outputs": [],
   "source": [
    "load_location = \"/usrhomes/g013/SemanticStyleGAN/log_files/IDD/SSG85499.linse2_output.out\"\n",
    "get_losses(load_location,difference=False)"
   ]
  },
  {
   "cell_type": "code",
   "execution_count": null,
   "metadata": {},
   "outputs": [],
   "source": [
    "load_location = \"/usrhomes/g013/SemanticStyleGAN/log_files/IDD_v3/SSG86018.linse3_output.out\"\n",
    "get_losses(load_location,difference=False)"
   ]
  },
  {
   "cell_type": "markdown",
   "metadata": {},
   "source": [
    "### Computing Average Loss before and After"
   ]
  },
  {
   "cell_type": "code",
   "execution_count": null,
   "metadata": {},
   "outputs": [],
   "source": [
    "load_location = \"/usrhomes/g013/SemanticStyleGAN/log_files/v3.4/SSG77641.linse2_output.out\"\n",
    "get_losses(load_location,difference=True)\n"
   ]
  },
  {
   "cell_type": "code",
   "execution_count": null,
   "metadata": {},
   "outputs": [],
   "source": [
    "load_location = \"/usrhomes/g013/SemanticStyleGAN/log_files/SSG_v5.1/SSG83443.linse2_output.out\"\n",
    "get_losses(load_location,difference=False)\n"
   ]
  },
  {
   "cell_type": "code",
   "execution_count": null,
   "metadata": {},
   "outputs": [],
   "source": [
    "load_location = \"/usrhomes/g013/SemanticStyleGAN/log_files/SSG_v5.2/SSG83485.linse2_output.out\"\n",
    "get_losses(load_location,difference=False)\n"
   ]
  },
  {
   "cell_type": "code",
   "execution_count": null,
   "metadata": {},
   "outputs": [],
   "source": [
    "#Calculate average losses before and after a certain threshold for both disc or gen.\n",
    "def calculate_average_before_after(load_location,iteration,max_iterations=None):\n",
    "    iterations,d_losses,g_losses=extract_losses(load_location) \n",
    "    index_max= len(d_losses) if max_iterations==None else iterations.index(max_iterations)\n",
    "    index=iterations.index(iteration)\n",
    "    average_before_g= sum(g_losses[:index])/index\n",
    "    average_after_g=sum(g_losses[index:index_max])/(index_max-index)\n",
    "    average_before_d= sum(d_losses[:index])/index\n",
    "    average_after_d=sum(d_losses[index:index_max])/(index_max-index)\n",
    "    diff_before=abs(average_before_d-average_before_g)\n",
    "    diff_after=abs(average_after_d-average_after_g)\n",
    "    print(f\"Max iteration available is : {iterations[-1]}\")\n",
    "    print(f\"On Average, For Generator the loss went from {average_before_g:.4f} -----> {average_after_g:.4f} \")\n",
    "    print(f\"On Average, For Discriminator the loss went from {average_before_d:.4f} -----> {average_after_d:.4f} \")\n",
    "    print(f\"Diff before iteration {iteration} is :{diff_before:.4f} and after it is {diff_after:.4f}\")\n",
    "    return {\n",
    "        \"average_generator_loss_before\":average_before_g,\n",
    "        \"average_generator_loss_after\":average_after_g,\n",
    "        \"average_discriminator_loss_before\":average_before_d,\n",
    "        \"average_discriminator_loss_after\":average_after_d,\n",
    "        \"difference_before\":diff_before,\n",
    "        \"difference_after\":diff_after,\n",
    "\n",
    "    }"
   ]
  },
  {
   "cell_type": "code",
   "execution_count": null,
   "metadata": {},
   "outputs": [],
   "source": [
    "#load_location = \"/usrhomes/g013/SemanticStyleGAN/log_files/SSG78195.linse10_output.out\"\n",
    "load_location = \"/usrhomes/g013/SemanticStyleGAN/log_files/SSG_v3.7/SSG78580.linse10_output.out\"\n",
    "calculate_average_before_after(load_location,iteration=60000)"
   ]
  },
  {
   "cell_type": "code",
   "execution_count": null,
   "metadata": {},
   "outputs": [],
   "source": [
    "res.index(57400)"
   ]
  },
  {
   "cell_type": "code",
   "execution_count": null,
   "metadata": {},
   "outputs": [],
   "source": []
  },
  {
   "cell_type": "code",
   "execution_count": null,
   "metadata": {},
   "outputs": [],
   "source": []
  }
 ],
 "metadata": {
  "kernelspec": {
   "display_name": "Python 3.9.12 ('myenv': conda)",
   "language": "python",
   "name": "python3"
  },
  "language_info": {
   "codemirror_mode": {
    "name": "ipython",
    "version": 3
   },
   "file_extension": ".py",
   "mimetype": "text/x-python",
   "name": "python",
   "nbconvert_exporter": "python",
   "pygments_lexer": "ipython3",
   "version": "3.9.12"
  },
  "orig_nbformat": 4,
  "vscode": {
   "interpreter": {
    "hash": "c8daaeadef7a295f68d0e95189507333c5c96e909e217a26b6b4a4818e648299"
   }
  }
 },
 "nbformat": 4,
 "nbformat_minor": 2
}
